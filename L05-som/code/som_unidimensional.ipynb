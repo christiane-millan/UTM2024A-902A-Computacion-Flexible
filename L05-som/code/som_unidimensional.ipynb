{
 "cells": [
  {
   "cell_type": "markdown",
   "metadata": {},
   "source": [
    "# Red unidimensional de Kohonen"
   ]
  },
  {
   "cell_type": "code",
   "execution_count": 28,
   "metadata": {},
   "outputs": [],
   "source": [
    "import math\n",
    "import numpy as np"
   ]
  },
  {
   "cell_type": "markdown",
   "metadata": {},
   "source": [
    "# Ejemplo de entrenamiento de la red SOM\n",
    "\n",
    "Este ejemplo usa un espacio de entrada bi-dimensional, es decir, $N=2$. \n",
    "\n",
    "Dejemos que la estructura de la cuadrícula sea unidimensional $G=1$. Además, nuestro SOM de ejemplo debe constar de 7 neuronas y la taza de aprendizaje debe ser $\\eta = 0.5$\n",
    "\n",
    "La función de vecindad es:\n",
    "\n",
    "$h(i,k,t) =\n",
    "\\begin{cases}\n",
    "1 & k \\text{ vecino directo de }i ,\\\\ 1 & k=i,\\\\\n",
    "0& \\text{de otro modo}\n",
    "\\end{cases}$\n",
    "\n",
    "Ahora tomemos un vistazo a la red mencionada con valores aleatorios inicializados en los centros, al presentar el patrón $p$. Ver siguiente figura:"
   ]
  },
  {
   "cell_type": "markdown",
   "metadata": {},
   "source": [
    "# Paso 1. Inicialización aleatoria de los pesos"
   ]
  },
  {
   "cell_type": "code",
   "execution_count": 29,
   "metadata": {},
   "outputs": [],
   "source": [
    "c_k = np.array(\n",
    "        [[-0.8, 0.9], \n",
    "        [0.85, 0.95], \n",
    "        [-0.8, -0.8], \n",
    "        [-0.8, -0.5], \n",
    "        [0.97, -0.8], \n",
    "        [0.97, -0.8],\n",
    "        [0.97, -0.3],\n",
    "        [-0.2, 0.7]])"
   ]
  },
  {
   "cell_type": "markdown",
   "metadata": {},
   "source": [
    "# Paso 2. Presentar patrón en la entrada de la red"
   ]
  },
  {
   "cell_type": "code",
   "execution_count": 30,
   "metadata": {},
   "outputs": [],
   "source": [
    "p_1 = np.array([-0.3, -0.8])"
   ]
  },
  {
   "cell_type": "markdown",
   "metadata": {},
   "source": [
    "# Paso 3. Cálcular distancias"
   ]
  },
  {
   "cell_type": "code",
   "execution_count": 31,
   "metadata": {},
   "outputs": [
    {
     "name": "stdout",
     "output_type": "stream",
     "text": [
      "1.7720045146669352\n",
      "[1.77200451 2.09403916 0.5        0.58309519 1.27       1.27\n",
      " 1.36488095 1.50332964]\n"
     ]
    }
   ],
   "source": [
    "d_c1 = math.sqrt((c_k[0][0] - p_1[0])**2 + (c_k[0][1] - p_1[1])**2)\n",
    "print(d_c1)\n",
    "\n",
    "d_ck = np.sqrt(np.sum((c_k - p_1)**2, axis= 1))\n",
    "print(d_ck)"
   ]
  },
  {
   "cell_type": "markdown",
   "metadata": {},
   "source": [
    "# Paso 4. Selección de la neurona ganadora (BMU)"
   ]
  },
  {
   "cell_type": "code",
   "execution_count": 32,
   "metadata": {},
   "outputs": [
    {
     "name": "stdout",
     "output_type": "stream",
     "text": [
      "2\n"
     ]
    }
   ],
   "source": [
    "bmu = np.argmin(d_ck, axis= 0)\n",
    "print(bmu)"
   ]
  },
  {
   "cell_type": "markdown",
   "metadata": {},
   "source": [
    "Obviamente en nuestro ejemplo el patrón de entrada es cercano a la neurona 3, es decir, es la neurona ganadora.\n",
    "\n",
    "Recordemos que la regla de aprendizaje para SOM es:\n",
    "\n",
    "$\\Delta c_k = \\eta(t) \\cdot h(i,k,t)\\cdot(p-c_k)$\n",
    "\n",
    "y procesa los tres factores desde atrás:\n",
    "\n",
    "**La dirección de aprendizaje**: Recuerda que los centros de las neuronas $c_k$ son vectores en el espacio de entrada, así como el patrón $p$.\n",
    "\n",
    "Entonces, el factor $(p-c_k)$ indica el vector de la neurona $k$ a el patrón $p$. Esto se multiplica por diferentes escales."
   ]
  },
  {
   "cell_type": "code",
   "execution_count": 33,
   "metadata": {},
   "outputs": [],
   "source": [
    "eta = 0.5"
   ]
  },
  {
   "cell_type": "markdown",
   "metadata": {},
   "source": [
    "Nuestra **función topológica** $h$ indica que solo el ganador y sus dos vecinos cercanos (aquí 2 y 4) son permitidos aprender retornando cero para todas las otras neuronas. Una dependencia de tiempo no esta definida. Por lo tanto, el vector $(p-c_k)$ es multiplicado por 1 o por 0.\n",
    "\n",
    "La **taza de aprendizaje** indica, como siempre, la fuerza del aprendizaje. Como se mencionó anteriormente, $\\eta= 0.5$, es decir, en conjunto, el resultado de la neurona ganadora y sus vecinas (2, 3 y 4) se apróximan al patrón $p$ hasta la mitad (en la figura marcada con flechas)."
   ]
  },
  {
   "cell_type": "code",
   "execution_count": 36,
   "metadata": {},
   "outputs": [],
   "source": [
    "# Función de vecindad\n",
    "\n",
    "def h(i, k, t):\n",
    "    if k == i or k == i - 1 or k == i + 1 :\n",
    "        return 1\n",
    "    else:\n",
    "        return 0"
   ]
  },
  {
   "cell_type": "code",
   "execution_count": 34,
   "metadata": {},
   "outputs": [],
   "source": [
    "delta_bmu = eta * (p_1 - c_k[bmu])\n",
    "delta_bmu_prev = eta * (p_1 - c_k[bmu-1])\n",
    "delta_bmu_next = eta * (p_1 - c_k[bmu+1])\n",
    "\n"
   ]
  },
  {
   "cell_type": "code",
   "execution_count": 38,
   "metadata": {},
   "outputs": [
    {
     "name": "stdout",
     "output_type": "stream",
     "text": [
      "[array([ 0., -0.]), array([-0.575, -0.875]), array([0.25, 0.  ]), array([ 0.25, -0.15]), array([-0.,  0.]), array([-0.,  0.]), array([-0., -0.]), array([-0., -0.])]\n"
     ]
    }
   ],
   "source": [
    "delta_ck = []\n",
    "for i in range(0, len(c_k)):\n",
    "    delta = eta * h(bmu, i, i) * (p_1 - c_k[i])\n",
    "    delta_ck.append(delta)\n",
    "\n",
    "print(delta_ck)"
   ]
  },
  {
   "cell_type": "code",
   "execution_count": 39,
   "metadata": {},
   "outputs": [
    {
     "name": "stdout",
     "output_type": "stream",
     "text": [
      "[[-0.8    0.9  ]\n",
      " [ 0.275  0.075]\n",
      " [-0.55  -0.8  ]\n",
      " [-0.55  -0.65 ]\n",
      " [ 0.97  -0.8  ]\n",
      " [ 0.97  -0.8  ]\n",
      " [ 0.97  -0.3  ]\n",
      " [-0.2    0.7  ]]\n"
     ]
    }
   ],
   "source": [
    "c_k += delta_ck\n",
    "print(c_k)"
   ]
  }
 ],
 "metadata": {
  "kernelspec": {
   "display_name": "Python 3.9.0 64-bit",
   "language": "python",
   "name": "python3"
  },
  "language_info": {
   "codemirror_mode": {
    "name": "ipython",
    "version": 3
   },
   "file_extension": ".py",
   "mimetype": "text/x-python",
   "name": "python",
   "nbconvert_exporter": "python",
   "pygments_lexer": "ipython3",
   "version": "3.9.0"
  },
  "orig_nbformat": 4,
  "vscode": {
   "interpreter": {
    "hash": "aee8b7b246df8f9039afb4144a1f6fd8d2ca17a180786b69acc140d282b71a49"
   }
  }
 },
 "nbformat": 4,
 "nbformat_minor": 2
}
