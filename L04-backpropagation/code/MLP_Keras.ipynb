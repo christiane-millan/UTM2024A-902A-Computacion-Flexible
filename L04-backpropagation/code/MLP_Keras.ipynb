{
  "nbformat": 4,
  "nbformat_minor": 0,
  "metadata": {
    "colab": {
      "provenance": []
    },
    "kernelspec": {
      "name": "python3",
      "display_name": "Python 3"
    },
    "language_info": {
      "name": "python"
    }
  },
  "cells": [
    {
      "cell_type": "markdown",
      "source": [
        "# Primera RN con Keras\n",
        "\n",
        "Nota: Antes de comenzar es necesario activar los GPU. En el menú **Runtime** >> **Change runtime type** >> **Harware acelerator**, cambiar a **CPU**.\n"
      ],
      "metadata": {
        "id": "nd4Yk42061Nh"
      }
    },
    {
      "cell_type": "code",
      "source": [
        "import numpy as np\n",
        "from keras import layers, models\n",
        "from keras.utils import to_categorical # One-hot encoding \n",
        "from keras.datasets import mnist\n",
        "import matplotlib.pyplot as plt"
      ],
      "metadata": {
        "id": "ZsR_NRDG7woz"
      },
      "execution_count": 1,
      "outputs": []
    },
    {
      "cell_type": "markdown",
      "source": [
        "Cargar los datos\n",
        "\n",
        "El dataset MNIST se conforma de 60000 datos de entrenamiento  y 10000 datos de prueba. El dataset ha sido pre-normalizado para reducir su resolución mediante técnicas de anti-aliasing, y se centraron calculado el centro de masa para ser posicionadas en el campo de 28 x 28 píxeles.\n",
        "\n"
      ],
      "metadata": {
        "id": "Pw5UMVyX-uXi"
      }
    },
    {
      "cell_type": "code",
      "source": [
        "(train_data, train_labels) , (test_data, test_labels) = mnist.load_data()"
      ],
      "metadata": {
        "id": "DGiNb4Z6-wjk"
      },
      "execution_count": 2,
      "outputs": []
    },
    {
      "cell_type": "code",
      "source": [
        "train_data.shape"
      ],
      "metadata": {
        "colab": {
          "base_uri": "https://localhost:8080/"
        },
        "id": "vHd8XiAg_AcQ",
        "outputId": "9c25a55f-8c86-46dd-df4b-15dc855c6fec"
      },
      "execution_count": 3,
      "outputs": [
        {
          "output_type": "execute_result",
          "data": {
            "text/plain": [
              "(60000, 28, 28)"
            ]
          },
          "metadata": {},
          "execution_count": 3
        }
      ]
    },
    {
      "cell_type": "code",
      "source": [
        "plt.imshow(train_data[0])"
      ],
      "metadata": {
        "colab": {
          "base_uri": "https://localhost:8080/",
          "height": 282
        },
        "id": "rHMJjiUk_Dul",
        "outputId": "728b47f2-4a5d-4e50-aaab-784b9e9641c3"
      },
      "execution_count": 4,
      "outputs": [
        {
          "output_type": "execute_result",
          "data": {
            "text/plain": [
              "<matplotlib.image.AxesImage at 0x7fb735bb2990>"
            ]
          },
          "metadata": {},
          "execution_count": 4
        },
        {
          "output_type": "display_data",
          "data": {
            "text/plain": [
              "<Figure size 432x288 with 1 Axes>"
            ],
            "image/png": "[encoded data removed]"
          },
          "metadata": {
            "needs_background": "light"
          }
        }
      ]
    },
    {
      "cell_type": "code",
      "source": [
        "train_labels[0]"
      ],
      "metadata": {
        "colab": {
          "base_uri": "https://localhost:8080/"
        },
        "id": "8GHicPlY_O-h",
        "outputId": "f932ebaf-5eea-46f3-f1f7-41d402772613"
      },
      "execution_count": 5,
      "outputs": [
        {
          "output_type": "execute_result",
          "data": {
            "text/plain": [
              "5"
            ]
          },
          "metadata": {},
          "execution_count": 5
        }
      ]
    },
    {
      "cell_type": "markdown",
      "source": [
        "Cargar y configurar el modelo de la red neuronal."
      ],
      "metadata": {
        "id": "Ogw5UsHT_blR"
      }
    },
    {
      "cell_type": "code",
      "source": [
        "model = models.Sequential()\n",
        "model.add(layers.Dense(512, activation='relu', input_shape = (28*28,)))\n",
        "model.add(layers.Dense(10,activation='softmax'))\n",
        "\n",
        "model.compile(optimizer='rmsprop',\n",
        "              loss='categorical_crossentropy',\n",
        "              metrics = 'accuracy')"
      ],
      "metadata": {
        "id": "NwbdEOCx_cfE"
      },
      "execution_count": 6,
      "outputs": []
    },
    {
      "cell_type": "code",
      "source": [
        "model.summary()"
      ],
      "metadata": {
        "colab": {
          "base_uri": "https://localhost:8080/"
        },
        "id": "bdA6SlrS_zPP",
        "outputId": "4a5622c7-d0e6-4342-c99e-da72c77701fe"
      },
      "execution_count": 7,
      "outputs": [
        {
          "output_type": "stream",
          "name": "stdout",
          "text": [
            "Model: \"sequential\"\n",
            "_________________________________________________________________\n",
            " Layer (type)                Output Shape              Param #   \n",
            "=================================================================\n",
            " dense (Dense)               (None, 512)               401920    \n",
            "                                                                 \n",
            " dense_1 (Dense)             (None, 10)                5130      \n",
            "                                                                 \n",
            "=================================================================\n",
            "Total params: 407,050\n",
            "Trainable params: 407,050\n",
            "Non-trainable params: 0\n",
            "_________________________________________________________________\n"
          ]
        }
      ]
    },
    {
      "cell_type": "markdown",
      "source": [
        "Modificar los datos para un mejorar el manejo de los datos: \n",
        "* Un cambio de tres dimensiones a dos dimensiones.\n",
        "* Cambio de tipo de dato \n",
        "* Normalización de los valores que representa cada pixel entre 0 y 1."
      ],
      "metadata": {
        "id": "BZf4_aG5AP9D"
      }
    },
    {
      "cell_type": "code",
      "source": [
        "x_train = train_data.reshape(60000, 28 * 28)\n",
        "x_train = x_train.astype('float32') / 255\n",
        "\n",
        "x_test = test_data.reshape(10000, 28 * 28)\n",
        "x_test = x_test.astype('float32') / 255"
      ],
      "metadata": {
        "id": "h-81p-69Af-l"
      },
      "execution_count": 8,
      "outputs": []
    },
    {
      "cell_type": "code",
      "source": [
        "# Ejemplo de la transformación\n",
        "x_train[0]"
      ],
      "metadata": {
        "id": "UGLI6_R3B4Cg"
      },
      "execution_count": null,
      "outputs": []
    },
    {
      "cell_type": "code",
      "source": [
        "# Ejemplo de los valores de las etiquetas actuales en y_train\n",
        "train_labels[0]"
      ],
      "metadata": {
        "colab": {
          "base_uri": "https://localhost:8080/"
        },
        "id": "hO-rzwFYCNK2",
        "outputId": "92a28a60-3563-4af4-a157-4a3e7d133046"
      },
      "execution_count": 10,
      "outputs": [
        {
          "output_type": "execute_result",
          "data": {
            "text/plain": [
              "5"
            ]
          },
          "metadata": {},
          "execution_count": 10
        }
      ]
    },
    {
      "cell_type": "code",
      "source": [
        "y_train = to_categorical(train_labels)\n",
        "y_test = to_categorical(test_labels)"
      ],
      "metadata": {
        "id": "OzDfZzbBB_yy"
      },
      "execution_count": 11,
      "outputs": []
    },
    {
      "cell_type": "code",
      "source": [
        "# Ejemplo de la transformación de las etiquetas\n",
        "y_train[0]"
      ],
      "metadata": {
        "colab": {
          "base_uri": "https://localhost:8080/"
        },
        "id": "N4lPNTKWCiyi",
        "outputId": "d92e245b-548b-40d5-9d20-063ed773d2c6"
      },
      "execution_count": 12,
      "outputs": [
        {
          "output_type": "execute_result",
          "data": {
            "text/plain": [
              "array([0., 0., 0., 0., 0., 1., 0., 0., 0., 0.], dtype=float32)"
            ]
          },
          "metadata": {},
          "execution_count": 12
        }
      ]
    },
    {
      "cell_type": "markdown",
      "source": [
        "Entrenar la RN"
      ],
      "metadata": {
        "id": "rKuIyGjPFnUF"
      }
    },
    {
      "cell_type": "code",
      "source": [
        "model.fit(x_train, y_train, epochs=5, batch_size=128)"
      ],
      "metadata": {
        "colab": {
          "base_uri": "https://localhost:8080/"
        },
        "id": "lrpBZyYYFpsD",
        "outputId": "7e762c43-0ada-4074-e80c-504864d90a64"
      },
      "execution_count": 14,
      "outputs": [
        {
          "output_type": "stream",
          "name": "stdout",
          "text": [
            "Epoch 1/5\n",
            "469/469 [==============================] - 9s 19ms/step - loss: 0.0287 - accuracy: 0.9912\n",
            "Epoch 2/5\n",
            "469/469 [==============================] - 5s 11ms/step - loss: 0.0228 - accuracy: 0.9931\n",
            "Epoch 3/5\n",
            "469/469 [==============================] - 5s 11ms/step - loss: 0.0173 - accuracy: 0.9949\n",
            "Epoch 4/5\n",
            "469/469 [==============================] - 5s 11ms/step - loss: 0.0138 - accuracy: 0.9957\n",
            "Epoch 5/5\n",
            "469/469 [==============================] - 5s 11ms/step - loss: 0.0100 - accuracy: 0.9973\n"
          ]
        },
        {
          "output_type": "execute_result",
          "data": {
            "text/plain": [
              "<keras.callbacks.History at 0x7fb72dbf1590>"
            ]
          },
          "metadata": {},
          "execution_count": 14
        }
      ]
    },
    {
      "cell_type": "code",
      "source": [
        "model.evaluate(x_test,y_test)"
      ],
      "metadata": {
        "colab": {
          "base_uri": "https://localhost:8080/"
        },
        "id": "xiy7u5nZKDW9",
        "outputId": "b806f7b4-795f-4cf2-e1d4-bc2a2f46da8d"
      },
      "execution_count": 15,
      "outputs": [
        {
          "output_type": "stream",
          "name": "stdout",
          "text": [
            "313/313 [==============================] - 1s 3ms/step - loss: 0.0680 - accuracy: 0.9828\n"
          ]
        },
        {
          "output_type": "execute_result",
          "data": {
            "text/plain": [
              "[0.06804604828357697, 0.9828000068664551]"
            ]
          },
          "metadata": {},
          "execution_count": 15
        }
      ]
    },
    {
      "cell_type": "code",
      "source": [
        "# Selecciona un numero al azar dentro de x_test\n",
        "index = 1052\n",
        "#plt.figure(figsize=(10,10))\n",
        "d_image = x_test[index]\n",
        "plt.imshow(d_image.reshape(28, 28))\n",
        "# plt.title(y_test[index]) # para verlo como array\n",
        "plt.title( np.argmax(y_test[index], axis=-1) ) # para ver el numero como tal\n",
        "plt.axis(False)\n",
        "plt.show()"
      ],
      "metadata": {
        "colab": {
          "base_uri": "https://localhost:8080/",
          "height": 264
        },
        "id": "0vNRCaOtKSdI",
        "outputId": "4740bd74-3aa2-4e6f-fbc2-bbdcc05a7bff"
      },
      "execution_count": 22,
      "outputs": [
        {
          "output_type": "display_data",
          "data": {
            "text/plain": [
              "<Figure size 432x288 with 1 Axes>"
            ],
            "image/png": "[encoded data removed]"
          },
          "metadata": {
            "needs_background": "light"
          }
        }
      ]
    },
    {
      "cell_type": "code",
      "source": [
        "prediccion_array = model.predict(x_test[index].reshape(1,28*28))\n",
        "\n",
        "print('el numero es:',np.argmax(prediccion_array, axis=-1))"
      ],
      "metadata": {
        "colab": {
          "base_uri": "https://localhost:8080/"
        },
        "id": "DeEIBYKlKhTP",
        "outputId": "c1bfd05d-c5e9-4597-e6a5-f605e8037d3d"
      },
      "execution_count": 23,
      "outputs": [
        {
          "output_type": "stream",
          "name": "stdout",
          "text": [
            "1/1 [==============================] - 0s 24ms/step\n",
            "el numero es: [8]\n"
          ]
        }
      ]
    }
  ]
}