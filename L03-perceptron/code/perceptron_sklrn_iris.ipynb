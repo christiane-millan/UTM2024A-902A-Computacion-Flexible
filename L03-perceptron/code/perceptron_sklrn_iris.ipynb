{
 "cells": [
  {
   "cell_type": "markdown",
   "metadata": {},
   "source": [
    "# Perceptron scikit-learn\n",
    "\n",
    "En este ejemplo se implementa el Perceptrón de la biblioteca **scikit-learn**\n",
    "\n",
    "[Documentación Perceptrón](https://scikit-learn.org/stable/modules/generated/sklearn.linear_model.Perceptron.html)"
   ]
  },
  {
   "cell_type": "code",
   "execution_count": 1,
   "metadata": {},
   "outputs": [],
   "source": [
    "from sklearn import datasets\n",
    "import numpy as np"
   ]
  },
  {
   "cell_type": "code",
   "execution_count": 2,
   "metadata": {},
   "outputs": [
    {
     "name": "stdout",
     "output_type": "stream",
     "text": [
      "Etiquetas de clase: [0 1 2]\n"
     ]
    }
   ],
   "source": [
    "iris = datasets.load_iris()\n",
    "X = iris.data[:, [2, 3]]\n",
    "y = iris.target\n",
    "\n",
    "print('Etiquetas de clase:', np.unique(y))"
   ]
  },
  {
   "cell_type": "code",
   "execution_count": 3,
   "metadata": {},
   "outputs": [],
   "source": [
    "from sklearn.model_selection import train_test_split\n",
    "X_train, X_test, y_train, y_test = train_test_split(X, y, test_size = 0.3, random_state = 1, stratify = y)"
   ]
  },
  {
   "cell_type": "markdown",
   "metadata": {},
   "source": [
    "## Modulo model_selection\n",
    "\n",
    "Permite separar aleatoriamente los arreglos $X$ y $y$ en un 30% como datos de prueba (45 ejemplos) y un 70% como datos de entrenamiento (105 ejemplos).\n",
    "\n",
    "La función `train_test_split` revuelve los ejemplos antes de dividirlos. En caso contrario el conjunto de entrenamiento estaría conformado por las clases 0 y 1. Y el conjunto de prueba por ejemplos de la clase 2. \n",
    "\n",
    "- El parámetro `random_state` determina la semilla para el generador de números pseudo-aleatorios que son usados para revolver el conjunto previo a partirlo. Con un `random_state` areglado se asegura que el resultado sea reproducible.\n",
    "    \n",
    "- El parámetro `stratify` siginifica que el métod `traint_test_split` retornará los subconjuntos de entrenamiento y prueba con la misma porción de etiquetas de clase como en el conjunto de datos de salida.  Se puede utilizar la función `bincount` de NumPy para verificar esta última parte. \n",
    "    \n",
    "Referencia de [model_selection](https://scikit-learn.org/stable/modules/generated/sklearn.model_selection.train_test_split.html)"
   ]
  },
  {
   "cell_type": "code",
   "execution_count": 4,
   "metadata": {},
   "outputs": [
    {
     "name": "stdout",
     "output_type": "stream",
     "text": [
      "Conteo de etiquetas en y: [50 50 50]\n",
      "Conteo de etiquetas en y_train: [35 35 35]\n",
      "Conteo de etiquetas en y_test: [15 15 15]\n"
     ]
    }
   ],
   "source": [
    "print(\"Conteo de etiquetas en y:\", np.bincount(y))\n",
    "print(\"Conteo de etiquetas en y_train:\", np.bincount(y_train))\n",
    "print(\"Conteo de etiquetas en y_test:\", np.bincount(y_test))"
   ]
  },
  {
   "cell_type": "markdown",
   "metadata": {},
   "source": [
    "## Escalamiento de las características\n",
    "\n",
    "De acuerdo a lo visto con el **gradiente descendente** para un óptimo desempeño se requiere el realizar el escalamiento de las características. \n",
    "\n",
    "Con la clase `StandardScaler`del módulo `preprocessing` de scikit-learn se realiza el escalamiento.\n",
    "\n",
    "Referencia de [StandardScaler](https://scikit-learn.org/stable/modules/generated/sklearn.preprocessing.StandardScaler.html)"
   ]
  },
  {
   "cell_type": "code",
   "execution_count": 5,
   "metadata": {},
   "outputs": [
    {
     "name": "stdout",
     "output_type": "stream",
     "text": [
      "[[1.4 0.2]\n",
      " [1.7 0.2]\n",
      " [5.3 2.3]\n",
      " [5.7 2.1]\n",
      " [1.2 0.2]\n",
      " [5.6 2.4]\n",
      " [6.6 2.1]\n",
      " [1.2 0.2]\n",
      " [5.8 1.6]\n",
      " [4.6 1.3]\n",
      " [3.3 1. ]\n",
      " [3.9 1.4]\n",
      " [1.3 0.2]\n",
      " [4.7 1.2]\n",
      " [4.  1.3]\n",
      " [5.1 1.9]\n",
      " [1.9 0.2]\n",
      " [3.5 1. ]\n",
      " [3.9 1.2]\n",
      " [1.6 0.2]\n",
      " [4.8 1.8]\n",
      " [6.9 2.3]\n",
      " [4.5 1.5]\n",
      " [4.5 1.3]\n",
      " [3.8 1.1]\n",
      " [5.6 2.4]\n",
      " [4.7 1.4]\n",
      " [5.6 1.4]\n",
      " [5.8 2.2]\n",
      " [5.1 2.4]\n",
      " [4.1 1.3]\n",
      " [1.5 0.4]\n",
      " [6.7 2.2]\n",
      " [5.  1.9]\n",
      " [4.8 1.8]\n",
      " [5.6 2.1]\n",
      " [4.2 1.5]\n",
      " [6.7 2. ]\n",
      " [5.5 1.8]\n",
      " [1.6 0.2]\n",
      " [4.9 1.8]\n",
      " [1.4 0.2]\n",
      " [5.1 1.5]\n",
      " [1.9 0.4]\n",
      " [1.  0.2]\n",
      " [4.9 1.5]\n",
      " [1.5 0.2]\n",
      " [1.1 0.1]\n",
      " [5.5 1.8]\n",
      " [4.7 1.5]\n",
      " [1.7 0.3]\n",
      " [3.5 1. ]\n",
      " [4.1 1. ]\n",
      " [1.5 0.2]\n",
      " [1.5 0.2]\n",
      " [1.5 0.2]\n",
      " [3.7 1. ]\n",
      " [6.1 2.5]\n",
      " [1.3 0.3]\n",
      " [4.9 1.5]\n",
      " [1.3 0.2]\n",
      " [4.5 1.6]\n",
      " [6.  1.8]\n",
      " [1.6 0.2]\n",
      " [1.4 0.2]\n",
      " [4.4 1.2]\n",
      " [5.1 1.9]\n",
      " [3.6 1.3]\n",
      " [4.1 1.3]\n",
      " [4.8 1.8]\n",
      " [6.1 2.3]\n",
      " [4.5 1.5]\n",
      " [4.5 1.5]\n",
      " [5.4 2.1]\n",
      " [5.6 2.2]\n",
      " [4.6 1.4]\n",
      " [1.5 0.4]\n",
      " [1.7 0.5]\n",
      " [6.1 1.9]\n",
      " [5.1 1.6]\n",
      " [6.4 2. ]\n",
      " [5.  1.5]\n",
      " [1.5 0.2]\n",
      " [4.2 1.3]\n",
      " [5.1 2. ]\n",
      " [6.  2.5]\n",
      " [1.5 0.3]\n",
      " [1.4 0.2]\n",
      " [5.6 1.8]\n",
      " [1.4 0.3]\n",
      " [5.9 2.3]\n",
      " [3.9 1.1]\n",
      " [4.2 1.2]\n",
      " [4.3 1.3]\n",
      " [1.5 0.1]\n",
      " [5.2 2.3]\n",
      " [4.4 1.3]\n",
      " [1.3 0.2]\n",
      " [1.4 0.3]\n",
      " [5.  1.7]\n",
      " [1.3 0.3]\n",
      " [4.  1.2]\n",
      " [1.6 0.4]\n",
      " [1.5 0.2]\n",
      " [1.3 0.2]]\n"
     ]
    }
   ],
   "source": [
    "print(X_train)"
   ]
  },
  {
   "cell_type": "code",
   "execution_count": 7,
   "metadata": {},
   "outputs": [],
   "source": [
    "from sklearn.preprocessing import StandardScaler\n",
    "sc = StandardScaler()\n",
    "sc.fit(X_train)\n",
    "X_train_std = sc.transform(X_train)\n",
    "X_test_std = sc.transform(X_test)\n"
   ]
  },
  {
   "cell_type": "markdown",
   "metadata": {},
   "source": [
    "## Entrenamiento del modelo\n",
    "\n",
    "La mayoría de los algoritmos de scikit-learn ya soportan la clasificación multiclase por defecto a través del método **one vs rest (OVR)**, lo que permite alimentar el modelo con las tres clases de flores de iris.\n",
    "\n",
    "[Perceptron scikit-learn](https://scikit-learn.org/stable/modules/generated/sklearn.linear_model.Perceptron.html)"
   ]
  },
  {
   "cell_type": "code",
   "execution_count": 8,
   "metadata": {},
   "outputs": [
    {
     "data": {
      "text/plain": [
       "Perceptron(eta0=0.1, random_state=1)"
      ]
     },
     "execution_count": 8,
     "metadata": {},
     "output_type": "execute_result"
    }
   ],
   "source": [
    "from sklearn.linear_model import Perceptron\n",
    "ppn = Perceptron(eta0 = 0.1, random_state = 1)\n",
    "ppn.fit(X_train_std, y_train)"
   ]
  },
  {
   "cell_type": "markdown",
   "metadata": {},
   "source": [
    "- eta0 : Taza de aprendizaje\n",
    "- n_iter : número de iteraciones \n",
    "- random_state: asegurar la reproducción del resultado"
   ]
  },
  {
   "cell_type": "markdown",
   "metadata": {},
   "source": [
    "## Predicciones con el modelo obtenido\n",
    "\n",
    "El método `predict` permite realizar predicciones "
   ]
  },
  {
   "cell_type": "code",
   "execution_count": 9,
   "metadata": {},
   "outputs": [
    {
     "name": "stdout",
     "output_type": "stream",
     "text": [
      "Ejemplos clasificados incorrectamente: 1\n"
     ]
    }
   ],
   "source": [
    "y_pred = ppn.predict(X_test_std)\n",
    "print('Ejemplos clasificados incorrectamente: %d' % (y_test != y_pred).sum())"
   ]
  },
  {
   "cell_type": "markdown",
   "metadata": {},
   "source": [
    "El Perceptrón clasifica incorrectamente un ejemplo de la muetra de prueba conformada por 45 ejemplos de flores. este error de clasificación equivale al 2.2% de error $(1/45 \\approx 2.2)$.\n",
    "\n",
    "### Clasificación vs exactitud\n",
    "\n",
    "En lugar de calcular el error de clasificación incorrecta, muchos practicantes del ML reportan la exactitud de la clasificacción de un modelo.\n",
    "\n",
    "$1- error = 0.978$ o 97.8%"
   ]
  },
  {
   "cell_type": "markdown",
   "metadata": {},
   "source": [
    "Otra métricas de desempeño estan disponibles en el módulo `metrics`. Por ejemplo, se puede calcular la exactitud del Percetrón sobre la muestra de prueba:"
   ]
  },
  {
   "cell_type": "code",
   "execution_count": 13,
   "metadata": {},
   "outputs": [
    {
     "name": "stdout",
     "output_type": "stream",
     "text": [
      "Exactitud: 0.978\n"
     ]
    }
   ],
   "source": [
    "from sklearn.metrics import accuracy_score\n",
    "print('Exactitud: %.3f' % accuracy_score(y_test, y_pred))"
   ]
  },
  {
   "cell_type": "markdown",
   "metadata": {},
   "source": [
    "- y_test: son las etiquetas de clase verdaderas\n",
    "- y_pred: son las etiquetas de clase que fueron predecidas\n",
    "    \n",
    "Adicional, cada clasificador de scikit-learn tiene  un método `score`el cual cálcula la exactitud de predicción del clasificador."
   ]
  },
  {
   "cell_type": "code",
   "execution_count": 17,
   "metadata": {},
   "outputs": [
    {
     "name": "stdout",
     "output_type": "stream",
     "text": [
      "Exactitud 0.978\n"
     ]
    }
   ],
   "source": [
    "print('Exactitud %.3f' % ppn.score(X_test_std, y_test))"
   ]
  },
  {
   "cell_type": "code",
   "execution_count": 21,
   "metadata": {},
   "outputs": [],
   "source": [
    "from matplotlib.colors import ListedColormap \n",
    "import matplotlib.pyplot as plt"
   ]
  },
  {
   "cell_type": "code",
   "execution_count": 23,
   "metadata": {},
   "outputs": [],
   "source": [
    "def plot_decision_regions(X, y, classifier, test_idx=None, resolution=0.02):\n",
    "    # setup marker generator and color map\n",
    "    markers = ('s', 'x', 'o', '^', 'v')\n",
    "    colors = ('red', 'blue', 'lightgreen', 'gray', 'cyan')\n",
    "    cmap = ListedColormap(colors[:len(np.unique(y))])\n",
    "    # plot the decision surface\n",
    "    x1_min, x1_max = X[:, 0].min() - 1, X[:, 0].max() + 1\n",
    "    x2_min, x2_max = X[:, 1].min() - 1, X[:, 1].max() + 1\n",
    "    xx1, xx2 = np.meshgrid(np.arange(x1_min, x1_max, resolution), np.arange(x2_min, x2_max, resolution))\n",
    "    Z = classifier.predict(np.array([xx1.ravel(), xx2.ravel()]).T)\n",
    "    Z = Z.reshape(xx1.shape)\n",
    "    plt.contourf(xx1, xx2, Z, alpha=0.3, cmap=cmap)\n",
    "    plt.xlim(xx1.min(), xx1.max())\n",
    "    plt.ylim(xx2.min(), xx2.max())\n",
    "    for idx, cl in enumerate(np.unique(y)):\n",
    "        plt.scatter(x=X[y == cl, 0], y=X[y == cl, 1], alpha=0.8, c=colors[idx], marker=markers[idx], label=cl, \n",
    "                edgecolor='black')\n",
    "    # highlight test examples\n",
    "    if test_idx:\n",
    "        # plot all examples\n",
    "        X_test, y_test = X[test_idx, :], y[test_idx]\n",
    "        plt.scatter(X_test[:, 0], X_test[:, 1], c='', edgecolor='black', alpha=1.0, linewidth=1, marker='o',\n",
    "                       s=100, label='test set')"
   ]
  },
  {
   "cell_type": "code",
   "execution_count": 24,
   "metadata": {},
   "outputs": [
    {
     "name": "stderr",
     "output_type": "stream",
     "text": [
      "<ipython-input-23-4e5ea6890e55>:22: MatplotlibDeprecationWarning: Using a string of single character colors as a color sequence is deprecated since 3.2 and will be removed two minor releases later. Use an explicit list instead.\n",
      "  plt.scatter(X_test[:, 0], X_test[:, 1], c='', edgecolor='black', alpha=1.0, linewidth=1, marker='o',\n"
     ]
    },
    {
     "data": {
      "text/plain": [
       "<function matplotlib.pyplot.show(close=None, block=None)>"
      ]
     },
     "execution_count": 24,
     "metadata": {},
     "output_type": "execute_result"
    },
    {
     "data": {
      "image/png": "[encoded data removed]",
      "text/plain": [
       "<Figure size 432x288 with 1 Axes>"
      ]
     },
     "metadata": {
      "needs_background": "light"
     },
     "output_type": "display_data"
    }
   ],
   "source": [
    "X_combined_std = np.vstack((X_train_std, X_test_std))\n",
    "y_combined = np.hstack((y_train, y_test))\n",
    "plot_decision_regions(X = X_combined_std, y = y_combined, classifier = ppn, test_idx = range(105, 150))\n",
    "plt.xlabel('Largo del pétalo [estandarizado]')\n",
    "plt.ylabel('Ancho del pétalo [estandarizado]')\n",
    "plt.legend(loc = 'upper left')\n",
    "plt.tight_layout()\n",
    "plt.show"
   ]
  },
  {
   "cell_type": "code",
   "execution_count": null,
   "metadata": {},
   "outputs": [],
   "source": []
  }
 ],
 "metadata": {
  "kernelspec": {
   "display_name": "Python 3.8.5 ('base')",
   "language": "python",
   "name": "python3"
  },
  "language_info": {
   "codemirror_mode": {
    "name": "ipython",
    "version": 3
   },
   "file_extension": ".py",
   "mimetype": "text/x-python",
   "name": "python",
   "nbconvert_exporter": "python",
   "pygments_lexer": "ipython3",
   "version": "3.8.5"
  },
  "vscode": {
   "interpreter": {
    "hash": "395a4e92152996666fb2f9ccdfaa123fbee5cdfd349ce9639909b685c816356c"
   }
  }
 },
 "nbformat": 4,
 "nbformat_minor": 4
}
