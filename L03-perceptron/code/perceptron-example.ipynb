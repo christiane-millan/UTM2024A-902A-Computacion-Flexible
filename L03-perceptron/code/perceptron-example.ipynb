{
 "cells": [
  {
   "cell_type": "markdown",
   "metadata": {},
   "source": [
    "# Ejemplo Percetrón"
   ]
  },
  {
   "cell_type": "markdown",
   "metadata": {},
   "source": [
    "En este ejemplo utilizaremos la compuerta lógica **AND** para entrenar el Perceptrón "
   ]
  },
  {
   "cell_type": "markdown",
   "metadata": {},
   "source": [
    "| No. |Entradas  |  Salidas  |\n",
    "|-----|----------|-----------|\n",
    "|1    |( 1,   1) |    1      |\n",
    "|2    |( 1,  -1) |   -1      |\n",
    "|3    |(-1,   1) |   -1      |\n",
    "|4    |(-1,  -1) |   -1      |"
   ]
  },
  {
   "cell_type": "markdown",
   "metadata": {},
   "source": [
    "## Iteración 1: Paso 0. Inicialización de pesos\n",
    "\n",
    "La inicialización de pesos del Perceptrón puede ser aleatoria, con número pequeños entre [0, 1] o asignado a todos los pesos el valor inicial de cero."
   ]
  },
  {
   "cell_type": "code",
   "execution_count": 1,
   "metadata": {},
   "outputs": [],
   "source": [
    "w = [-0.6, 0.3, -0.2]"
   ]
  },
  {
   "cell_type": "markdown",
   "metadata": {},
   "source": [
    "## Iteración 1: Paso 1. Patrón de entrada\n",
    "\n",
    "El orden de los datos de entrenamiento se realiza de forma aleatorio. En este ejemplo utilizaremos la entrada $x_1= 1, x_2 = -1$ y la salida esperada $t = -1$. Correspodiente al ejemplo no. 2"
   ]
  },
  {
   "cell_type": "code",
   "execution_count": 2,
   "metadata": {},
   "outputs": [],
   "source": [
    "x = [1, -1]\n",
    "t = [-1]"
   ]
  },
  {
   "cell_type": "markdown",
   "metadata": {},
   "source": [
    "Para calcular salida actual del perceptrón utilizamos:\n",
    "$\\hat y = \\sum w_ix_i + w_bb$"
   ]
  },
  {
   "cell_type": "code",
   "execution_count": 4,
   "metadata": {},
   "outputs": [
    {
     "name": "stdout",
     "output_type": "stream",
     "text": [
      "1.1\n"
     ]
    }
   ],
   "source": [
    "import numpy as np\n",
    "y_input = np.dot(x, w[1:]) + w[0] * -1\n",
    "print(y_input)"
   ]
  },
  {
   "cell_type": "markdown",
   "metadata": {},
   "source": [
    "Calcular activación: $ \\varphi(\\hat y )= \\left\\{ \\begin{matrix} \n",
    "1 & \\text{si }\\hat y  \\geq 0\\\\ -1 & \\text{en otro caso}\n",
    "\\end{matrix} \\right.$"
   ]
  },
  {
   "cell_type": "code",
   "execution_count": 5,
   "metadata": {},
   "outputs": [
    {
     "name": "stdout",
     "output_type": "stream",
     "text": [
      "1\n"
     ]
    }
   ],
   "source": [
    "y = np.where(y_input >= 0, 1, -1)\n",
    "print(y)"
   ]
  },
  {
   "cell_type": "markdown",
   "metadata": {},
   "source": [
    "## Iteración 1:  Paso 2. Corrección de los pesos\n",
    "En el caso partícular de la entrada $x_1= 1, x_2 = -1$ la salida esperada es $t = -1$ y la salida actual es $\\hat y = 1$. Por lo tanto, es necesario realizar el ajuste de los pesos.\n"
   ]
  },
  {
   "cell_type": "code",
   "execution_count": 6,
   "metadata": {},
   "outputs": [
    {
     "name": "stdout",
     "output_type": "stream",
     "text": [
      "[0.4, -0.7, 0.8]\n"
     ]
    }
   ],
   "source": [
    "eta = 0.5\n",
    "update = eta * (t[0] - y)\n",
    "w[1] += update * x[0]\n",
    "w[2] += update * x[1]\n",
    "w[0] += update * -1\n",
    "print(w)"
   ]
  },
  {
   "cell_type": "markdown",
   "metadata": {},
   "source": [
    "## Iteración 1: Repetir paso 1 y 2\n",
    "\n",
    "Una vez ajustado los pesos, presentaremos un dato de entrenamiento más, de forma aleatoria, utilizaremos la entrada $x_1= -1, x_2 = -1$ y la salida esperada $t = -1$. Correspodiente al ejemplo no. 4 \n",
    "\n",
    "\n",
    "Calculamos la salida actual del perceptrón utilizando:\n",
    "$\\hat y = \\sum w_ix_i + w_bb$\n",
    "\n"
   ]
  },
  {
   "cell_type": "code",
   "execution_count": 7,
   "metadata": {},
   "outputs": [
    {
     "name": "stdout",
     "output_type": "stream",
     "text": [
      "-1\n"
     ]
    }
   ],
   "source": [
    "# Paso 1\n",
    "x = [-1, -1]\n",
    "t = [-1]\n",
    "y_input = np.dot(x, w[1:]) + w[0]*-1\n",
    "y_input\n",
    "\n",
    "# Calcular activación\n",
    "y = np.where(y_input >= 0, 1, -1)\n",
    "print(y)"
   ]
  },
  {
   "cell_type": "markdown",
   "metadata": {},
   "source": [
    "En este caso la clasificación es correcta, por lo tanto se omite el ajuste de pesos (paso 2), ya que la salida esperada es $t = -1$ y la salida actual es $\\hat y = -1$"
   ]
  },
  {
   "cell_type": "markdown",
   "metadata": {},
   "source": [
    "## Iteración 1: Repetir paso 1 y 2\n",
    "\n",
    "Una vez más, presentaremos otro dato de entrenamiento más, de forma aleatoria, utilizaremos la entrada $x_1= 1, x_2 = 1$ y la salida esperada $t = 1$. Correspodiente al ejemplo no. 1 \n",
    "\n",
    "\n",
    "Calcular salida actual del perceptrón utilizamos:\n",
    "$\\hat y = \\sum w_ix_i + w_bb$\n"
   ]
  },
  {
   "cell_type": "code",
   "execution_count": 8,
   "metadata": {},
   "outputs": [
    {
     "data": {
      "text/plain": [
       "-0.29999999999999993"
      ]
     },
     "execution_count": 8,
     "metadata": {},
     "output_type": "execute_result"
    }
   ],
   "source": [
    "# Paso 1\n",
    "x = [1, 1]\n",
    "t = [1]\n",
    "y_input = np.dot(x, w[1:]) + w[0]*-1\n",
    "y_input"
   ]
  },
  {
   "cell_type": "code",
   "execution_count": 9,
   "metadata": {},
   "outputs": [
    {
     "name": "stdout",
     "output_type": "stream",
     "text": [
      "-1\n"
     ]
    }
   ],
   "source": [
    "# Calcular activación\n",
    "y = np.where(y_input >= 0, 1, -1)\n",
    "print(y)"
   ]
  },
  {
   "cell_type": "markdown",
   "metadata": {},
   "source": [
    "En este caso la clasificación es incorrecta, por lo tanto se realiza el ajuste de pesos (paso 2), ya que la salida esperada es $t = 1$ y la salida actual es $\\hat y = -1$"
   ]
  },
  {
   "cell_type": "code",
   "execution_count": 10,
   "metadata": {},
   "outputs": [
    {
     "name": "stdout",
     "output_type": "stream",
     "text": [
      "[-0.6, 0.30000000000000004, 1.8]\n"
     ]
    }
   ],
   "source": [
    "eta = 0.5\n",
    "update = eta * (t[0] - y)\n",
    "w[1] += update * x[0]\n",
    "w[2] += update * x[1]\n",
    "w[0] += update * -1\n",
    "print(w)"
   ]
  },
  {
   "attachments": {},
   "cell_type": "markdown",
   "metadata": {},
   "source": [
    "## Iteración 1: Repetir paso 1 y 2\n",
    "En el caso utilizaremos el último ejemplo de enternamiento, $x_1= -1, x_2 = 1$ la salida esperada es $t = -1$ y la salida actual es $\\hat y = 1$. Por lo tanto, es necesario realizar el ajuste de los pesos.\n"
   ]
  },
  {
   "cell_type": "code",
   "execution_count": 11,
   "metadata": {},
   "outputs": [
    {
     "data": {
      "text/plain": [
       "2.1"
      ]
     },
     "execution_count": 11,
     "metadata": {},
     "output_type": "execute_result"
    }
   ],
   "source": [
    "# Paso 1\n",
    "x = [- 1, 1]\n",
    "t = [-1]\n",
    "y_input = np.dot(x, w[1:]) + w[0]*-1\n",
    "y_input"
   ]
  },
  {
   "cell_type": "code",
   "execution_count": 12,
   "metadata": {},
   "outputs": [
    {
     "name": "stdout",
     "output_type": "stream",
     "text": [
      "1\n"
     ]
    }
   ],
   "source": [
    "# Calcular activación\n",
    "y = np.where(y_input >= 0, 1, -1)\n",
    "print(y)"
   ]
  },
  {
   "cell_type": "code",
   "execution_count": 13,
   "metadata": {},
   "outputs": [
    {
     "name": "stdout",
     "output_type": "stream",
     "text": [
      "[0.4, 1.3, 0.8]\n"
     ]
    }
   ],
   "source": [
    "eta = 0.5\n",
    "update = eta * (t[0] - y)\n",
    "w[1] += update * x[0]\n",
    "w[2] += update * x[1]\n",
    "w[0] += update * -1\n",
    "print(w)"
   ]
  },
  {
   "cell_type": "markdown",
   "metadata": {},
   "source": [
    "Una vez que se han presentado todos los patrones, es necesario realizar una iteación nuevamenten con todos la muestra de aprendizaje, para verificar si todos los ejemplos han sido aprendidos"
   ]
  },
  {
   "cell_type": "markdown",
   "metadata": {},
   "source": [
    "## Iteración 2: \n",
    "\n",
    "En esta segunda iteración cambiaremos el orden de los patrones de entrenamiento y realizaremos los ajueste de pesos necesarios."
   ]
  },
  {
   "cell_type": "code",
   "execution_count": 14,
   "metadata": {},
   "outputs": [
    {
     "name": "stdout",
     "output_type": "stream",
     "text": [
      "[0.4, 1.3, 0.8]\n",
      "[1.4, 0.30000000000000004, 1.8]\n",
      "[1.4, 0.30000000000000004, 1.8]\n",
      "[2.4, 1.3, 0.8]\n"
     ]
    }
   ],
   "source": [
    "X = [[1, 1], [1, -1], [-1, -1], [-1, 1]]\n",
    "t = [1, -1, -1, -1]\n",
    "\n",
    "for xi, t in zip (X, t):\n",
    "    y_input = np.dot(xi, w[1:]) + w[0]* -1\n",
    "    y = np.where(y_input >= 0, 1, -1)\n",
    "    update = eta * (t - y)\n",
    "    w[1] += update * xi[0]\n",
    "    w[2] += update * xi[1]\n",
    "    w[0] += update * -1\n",
    "    print (w)"
   ]
  },
  {
   "cell_type": "markdown",
   "metadata": {},
   "source": [
    "## Iteración 3: \n",
    "\n",
    "En la iteración 2, se realizarón ajustes a los pesos, por lo tanto, se realizará una tercera iteración.\n"
   ]
  },
  {
   "cell_type": "code",
   "execution_count": 15,
   "metadata": {},
   "outputs": [
    {
     "name": "stdout",
     "output_type": "stream",
     "text": [
      "[2.4, 1.3, 0.8]\n",
      "[1.4, 2.3, 1.8]\n",
      "[1.4, 2.3, 1.8]\n",
      "[1.4, 2.3, 1.8]\n"
     ]
    }
   ],
   "source": [
    "X = [[-1, -1], [1, 1], [-1, 1], [1, -1]]\n",
    "t = [-1, 1, -1, -1]\n",
    "\n",
    "for xi, t in zip (X, t):\n",
    "    y_input = np.dot(xi, w[1:]) + w[0]* -1\n",
    "    y = np.where(y_input >= 0, 1, -1)\n",
    "    update = eta * (t - y)\n",
    "    w[1] += update * xi[0]\n",
    "    w[2] += update * xi[1]\n",
    "    w[0] += update * -1\n",
    "    print (w)"
   ]
  },
  {
   "cell_type": "markdown",
   "metadata": {},
   "source": [
    "## Iteración 4: \n",
    "\n",
    "En la iteración 3, se realizarón ajustes a los pesos, por lo tanto, se realizará una cuarta iteración."
   ]
  },
  {
   "cell_type": "code",
   "execution_count": 16,
   "metadata": {
    "scrolled": true
   },
   "outputs": [
    {
     "name": "stdout",
     "output_type": "stream",
     "text": [
      "[1.4, 2.3, 1.8]\n",
      "[1.4, 2.3, 1.8]\n",
      "[1.4, 2.3, 1.8]\n",
      "[1.4, 2.3, 1.8]\n"
     ]
    }
   ],
   "source": [
    "X = [[-1, 1], [-1, -1], [1, -1], [1, 1]]\n",
    "t = [-1, -1, -1, 1]\n",
    "\n",
    "for xi, t in zip (X, t):\n",
    "    y_input = np.dot(xi, w[1:]) + w[0]* -1\n",
    "    y = np.where(y_input >= 0, 1, -1)\n",
    "    update = eta * (t - y)\n",
    "    w[1] += update * xi[0]\n",
    "    w[2] += update * xi[1]\n",
    "    w[0] += update * -1\n",
    "    print (w)"
   ]
  },
  {
   "cell_type": "markdown",
   "metadata": {},
   "source": [
    "En esta última iteración no se presentó cambio en los pesos del perceptrón, por lo tanto damos por terminado el proceso de aprendizaje."
   ]
  },
  {
   "cell_type": "code",
   "execution_count": null,
   "metadata": {},
   "outputs": [],
   "source": []
  }
 ],
 "metadata": {
  "kernelspec": {
   "display_name": "Python 3.9.0 64-bit",
   "language": "python",
   "name": "python3"
  },
  "language_info": {
   "codemirror_mode": {
    "name": "ipython",
    "version": 3
   },
   "file_extension": ".py",
   "mimetype": "text/x-python",
   "name": "python",
   "nbconvert_exporter": "python",
   "pygments_lexer": "ipython3",
   "version": "3.8.5"
  },
  "vscode": {
   "interpreter": {
    "hash": "aee8b7b246df8f9039afb4144a1f6fd8d2ca17a180786b69acc140d282b71a49"
   }
  }
 },
 "nbformat": 4,
 "nbformat_minor": 4
}
