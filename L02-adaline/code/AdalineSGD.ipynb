{
 "cells": [
  {
   "cell_type": "markdown",
   "metadata": {},
   "source": [
    "# AdalineSGD"
   ]
  },
  {
   "cell_type": "code",
   "execution_count": 1,
   "metadata": {},
   "outputs": [],
   "source": [
    "from AdalineSGD import AdalineSGD"
   ]
  },
  {
   "cell_type": "markdown",
   "metadata": {},
   "source": [
    "# Estructura de la clase AdalineSGD\n",
    "\n",
    "```Python\n",
    "import numpy as np\n",
    "\n",
    "class AdalineSGD(object):\n",
    "\n",
    "        \"\"\"ADAptive LInear NEuron classifier.\n",
    "        Parameters\n",
    "        ------------\n",
    "        eta : float\n",
    "           Learning rate (between 0.0 and 1.0)\n",
    "        n_iter : int\n",
    "           Passes over the training dataset.\n",
    "        shuffle : bool (default: True)\n",
    "           Shuffles training data every epoch if True to prevent\n",
    "           cycles.\n",
    "        random_state : int\n",
    "           Random number generator seed for random weight\n",
    "           initialization.\n",
    "        Attributes\n",
    "        -----------\n",
    "        w_ : 1d-array\n",
    "           Weights after fitting.\n",
    "        cost_ : list\n",
    "           Sum-of-squares cost function value averaged over all\n",
    "           training examples in each epoch.\n",
    "        \"\"\"\n",
    "        def __init__(self, eta=0.01, n_iter=10, shuffle=True, random_state=None):\n",
    "           self.eta = eta\n",
    "           self.n_iter = n_iter\n",
    "           self.w_initialized = False\n",
    "           self.shuffle = shuffle\n",
    "           self.random_state = random_state\n",
    "\n",
    "        def fit(self, X, y):\n",
    "            \"\"\" Fit training data.\n",
    "            Parameters\n",
    "            ----------\n",
    "            X : {array-like}, shape = [n_examples, n_features]\n",
    "                Training vectors, where n_examples is the number of\n",
    "                examples and n_features is the number of features.\n",
    "            y : array-like, shape = [n_examples]\n",
    "                Target values.\n",
    "            Returns\n",
    "            -------\n",
    "            self : object\n",
    "            \"\"\"\n",
    "            self._initialize_weights(X.shape[1])\n",
    "            self.cost_ = []\n",
    "            for i in range(self.n_iter):\n",
    "                #TODO\n",
    "\n",
    "            return self\n",
    "\n",
    "        def partial_fit(self, X, y):\n",
    "            \"\"\"Fit training data without reinitializing the weights\"\"\"\n",
    "            if not self.w_initialized:\n",
    "                self._initialize_weights(X.shape[1])\n",
    "            if y.ravel().shape[0] > 1:\n",
    "                for xi, target in zip(X, y):\n",
    "                    self._update_weights(xi, target)\n",
    "            else:\n",
    "                self._update_weights(X, y)\n",
    "            return self\n",
    "\n",
    "        def _shuffle(self, X, y):\n",
    "            \"\"\"Shuffle training data\"\"\"\n",
    "            r = self.rgen.permutation(len(y))\n",
    "            return X[r], y[r]\n",
    "        \n",
    "        \n",
    "        def _initialize_weights(self, m):\n",
    "            \"\"\"Initialize weights to small random numbers\"\"\"\n",
    "            self.rgen = np.random.RandomState(self.random_state)\n",
    "            self.w_ = self.rgen.normal(loc=0.0, scale=0.01, size=1 + m)\n",
    "            self.w_initialized = True\n",
    "\n",
    "\n",
    "        def _update_weights(self, xi, target):\n",
    "            \"\"\"Apply Adaline learning rule to update the weights\"\"\"\n",
    "            output = self.activation(self.net_input(xi))\n",
    "            error = (target - output)\n",
    "            self.w_[1:] += self.eta * xi.dot(error)\n",
    "            self.w_[0] += self.eta * error\n",
    "            cost = 0.5 * error**2\n",
    "            return cost\n",
    "        \n",
    "        \n",
    "        def net_input(self, X):\n",
    "            \"\"\"Calculate net input\"\"\"\n",
    "            return np.dot(X, self.w_[1:]) + self.w_[0]\n",
    "       \n",
    "\n",
    "        def activation(self, X):\n",
    "            \"\"\"Compute linear activation\"\"\"\n",
    "            return X\n",
    "       \n",
    "\n",
    "        def predict(self, X):\n",
    "            \"\"\"Return class label after unit step\"\"\"\n",
    "            return np.where(self.activation(self.net_input(X)) >= 0.0, 1, -1)\n",
    "```"
   ]
  },
  {
   "cell_type": "markdown",
   "metadata": {},
   "source": [
    "## Entrenando Adaline con Iris"
   ]
  },
  {
   "cell_type": "code",
   "execution_count": 2,
   "metadata": {},
   "outputs": [
    {
     "name": "stdout",
     "output_type": "stream",
     "text": [
      "URL https://archive.ics.uci.edu/ml/machine-learning-databases/iris/iris.data\n"
     ]
    }
   ],
   "source": [
    "import os\n",
    "import pandas as pd\n",
    "s = os.path.join('https://archive.ics.uci.edu', 'ml', 'machine-learning-databases','iris','iris.data')\n",
    "\n",
    "print('URL', s)"
   ]
  },
  {
   "cell_type": "code",
   "execution_count": 3,
   "metadata": {},
   "outputs": [],
   "source": [
    "df = pd.read_csv(s, header = None, encoding = 'utf-8')"
   ]
  },
  {
   "cell_type": "code",
   "execution_count": 4,
   "metadata": {},
   "outputs": [
    {
     "data": {
      "text/html": [
       "<div>\n",
       "<style scoped>\n",
       "    .dataframe tbody tr th:only-of-type {\n",
       "        vertical-align: middle;\n",
       "    }\n",
       "\n",
       "    .dataframe tbody tr th {\n",
       "        vertical-align: top;\n",
       "    }\n",
       "\n",
       "    .dataframe thead th {\n",
       "        text-align: right;\n",
       "    }\n",
       "</style>\n",
       "<table border=\"1\" class=\"dataframe\">\n",
       "  <thead>\n",
       "    <tr style=\"text-align: right;\">\n",
       "      <th></th>\n",
       "      <th>0</th>\n",
       "      <th>1</th>\n",
       "      <th>2</th>\n",
       "      <th>3</th>\n",
       "      <th>4</th>\n",
       "    </tr>\n",
       "  </thead>\n",
       "  <tbody>\n",
       "    <tr>\n",
       "      <th>145</th>\n",
       "      <td>6.7</td>\n",
       "      <td>3.0</td>\n",
       "      <td>5.2</td>\n",
       "      <td>2.3</td>\n",
       "      <td>Iris-virginica</td>\n",
       "    </tr>\n",
       "    <tr>\n",
       "      <th>146</th>\n",
       "      <td>6.3</td>\n",
       "      <td>2.5</td>\n",
       "      <td>5.0</td>\n",
       "      <td>1.9</td>\n",
       "      <td>Iris-virginica</td>\n",
       "    </tr>\n",
       "    <tr>\n",
       "      <th>147</th>\n",
       "      <td>6.5</td>\n",
       "      <td>3.0</td>\n",
       "      <td>5.2</td>\n",
       "      <td>2.0</td>\n",
       "      <td>Iris-virginica</td>\n",
       "    </tr>\n",
       "    <tr>\n",
       "      <th>148</th>\n",
       "      <td>6.2</td>\n",
       "      <td>3.4</td>\n",
       "      <td>5.4</td>\n",
       "      <td>2.3</td>\n",
       "      <td>Iris-virginica</td>\n",
       "    </tr>\n",
       "    <tr>\n",
       "      <th>149</th>\n",
       "      <td>5.9</td>\n",
       "      <td>3.0</td>\n",
       "      <td>5.1</td>\n",
       "      <td>1.8</td>\n",
       "      <td>Iris-virginica</td>\n",
       "    </tr>\n",
       "  </tbody>\n",
       "</table>\n",
       "</div>"
      ],
      "text/plain": [
       "       0    1    2    3               4\n",
       "145  6.7  3.0  5.2  2.3  Iris-virginica\n",
       "146  6.3  2.5  5.0  1.9  Iris-virginica\n",
       "147  6.5  3.0  5.2  2.0  Iris-virginica\n",
       "148  6.2  3.4  5.4  2.3  Iris-virginica\n",
       "149  5.9  3.0  5.1  1.8  Iris-virginica"
      ]
     },
     "execution_count": 4,
     "metadata": {},
     "output_type": "execute_result"
    }
   ],
   "source": [
    "df.tail()"
   ]
  },
  {
   "cell_type": "code",
   "execution_count": 5,
   "metadata": {
    "scrolled": true
   },
   "outputs": [
    {
     "data": {
      "text/plain": [
       "<function matplotlib.pyplot.show(close=None, block=None)>"
      ]
     },
     "execution_count": 5,
     "metadata": {},
     "output_type": "execute_result"
    },
    {
     "data": {
      "image/png": "[encoded data removed]",
      "text/plain": [
       "<Figure size 432x288 with 1 Axes>"
      ]
     },
     "metadata": {
      "needs_background": "light"
     },
     "output_type": "display_data"
    }
   ],
   "source": [
    "import matplotlib.pyplot as plt\n",
    "import numpy as np\n",
    "\n",
    "# Select setosa and versicolor\n",
    "y = df.iloc[0:100, 4].values\n",
    "y = np.where( y == 'Iris-setosa', -1, 1)\n",
    "\n",
    "# extract sepal length and petal length\n",
    "X = df.iloc[0:100, [0, 2]].values\n",
    "\n",
    "#plot data\n",
    "plt.scatter(X[:50, 0], X[:50, 1], color = 'red', marker = 'o', label = 'setosa')\n",
    "plt.scatter(X[50:100, 0], X[50:100, 1], color = 'blue', marker = 'x', label = 'versicolor')\n",
    "plt.xlabel('sepal length [cm]')\n",
    "plt.ylabel('petal lenght [cm]')\n",
    "plt.legend(loc='upper left')\n",
    "plt.show"
   ]
  },
  {
   "cell_type": "code",
   "execution_count": 7,
   "metadata": {},
   "outputs": [],
   "source": [
    "X_std = np.copy(X)\n",
    "X_std[:, 0] = (X[:, 0] - X[:, 0].mean()) / X[:, 0].std()\n",
    "X_std[:, 1] = (X[:, 1] - X[:, 1].mean()) / X[:, 1].std()"
   ]
  },
  {
   "cell_type": "code",
   "execution_count": 9,
   "metadata": {},
   "outputs": [
    {
     "data": {
      "text/plain": [
       "<AdalineSGD.AdalineSGD at 0x7fe5a890b490>"
      ]
     },
     "execution_count": 9,
     "metadata": {},
     "output_type": "execute_result"
    }
   ],
   "source": [
    "ada1 = AdalineSGD(n_iter = 15, eta = 0.01, random_state = 1)\n",
    "ada1.fit(X_std, y)"
   ]
  },
  {
   "cell_type": "code",
   "execution_count": 11,
   "metadata": {},
   "outputs": [],
   "source": [
    "from matplotlib.colors import ListedColormap\n",
    "def plot_decision_regions(X, y, classifier, resolution=0.02):\n",
    "    # setup marker generator and color map\n",
    "    markers = ('s', 'x', 'o', '^', 'v')\n",
    "    colors = ('red', 'blue', 'lightgreen', 'gray', 'cyan')\n",
    "    cmap = ListedColormap(colors[:len(np.unique(y))])\n",
    "    # plot the decision surface\n",
    "    x1_min, x1_max = X[:, 0].min() - 1, X[:, 0].max() + 1\n",
    "    x2_min, x2_max = X[:, 1].min() - 1, X[:, 1].max() + 1\n",
    "    xx1, xx2 = np.meshgrid(np.arange(x1_min, x1_max, resolution), np.arange(x2_min, x2_max, resolution))\n",
    "    Z = classifier.predict(np.array([xx1.ravel(), xx2.ravel()]).T)\n",
    "    Z = Z.reshape(xx1.shape)\n",
    "    plt.contourf(xx1, xx2, Z, alpha=0.3, cmap=cmap)\n",
    "    plt.xlim(xx1.min(), xx1.max())\n",
    "    plt.ylim(xx2.min(), xx2.max())\n",
    "    # plot class examples\n",
    "    for idx, cl in enumerate(np.unique(y)):\n",
    "        plt.scatter(x=X[y == cl, 0], y=X[y == cl, 1], alpha=0.8, c=colors[idx], marker=markers[idx],label=cl, edgecolor='black')"
   ]
  },
  {
   "cell_type": "code",
   "execution_count": 14,
   "metadata": {},
   "outputs": [
    {
     "data": {
      "image/png": "[encoded data removed]",
      "text/plain": [
       "<Figure size 432x288 with 1 Axes>"
      ]
     },
     "metadata": {
      "needs_background": "light"
     },
     "output_type": "display_data"
    },
    {
     "data": {
      "image/png": "[encoded data removed]",
      "text/plain": [
       "<Figure size 432x288 with 1 Axes>"
      ]
     },
     "metadata": {
      "needs_background": "light"
     },
     "output_type": "display_data"
    }
   ],
   "source": [
    "plot_decision_regions(X_std, y, classifier=ada1)\n",
    "plt.title('Adaline - Gradient Descent')\n",
    "plt.xlabel('sepal length [standardized]')\n",
    "plt.ylabel('petal length [standardized]')\n",
    "plt.legend(loc='upper left')\n",
    "plt.tight_layout()\n",
    "plt.show()\n",
    "plt.plot(range(1, len(ada1.cost_) + 1), ada1.cost_, marker='o')\n",
    "plt.xlabel('Epochs')\n",
    "plt.ylabel('Sum-squared-error')\n",
    "plt.tight_layout()\n",
    "plt.show()"
   ]
  },
  {
   "cell_type": "code",
   "execution_count": null,
   "metadata": {},
   "outputs": [],
   "source": []
  },
  {
   "cell_type": "code",
   "execution_count": null,
   "metadata": {},
   "outputs": [],
   "source": []
  }
 ],
 "metadata": {
  "kernelspec": {
   "display_name": "Python 3",
   "language": "python",
   "name": "python3"
  },
  "language_info": {
   "codemirror_mode": {
    "name": "ipython",
    "version": 3
   },
   "file_extension": ".py",
   "mimetype": "text/x-python",
   "name": "python",
   "nbconvert_exporter": "python",
   "pygments_lexer": "ipython3",
   "version": "3.8.5"
  }
 },
 "nbformat": 4,
 "nbformat_minor": 4
}
