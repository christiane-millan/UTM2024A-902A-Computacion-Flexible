{
 "cells": [
  {
   "cell_type": "markdown",
   "metadata": {},
   "source": [
    "# Ejemplo Adaline"
   ]
  },
  {
   "cell_type": "markdown",
   "metadata": {},
   "source": [
    "En este ejemplo utilizaremos la compuerta lógica **AND** para entrenar Adaline"
   ]
  },
  {
   "cell_type": "markdown",
   "metadata": {},
   "source": [
    "| No. |Entradas  |  Salidas  |\n",
    "|-----|----------|-----------|\n",
    "|1    |( 1,   1) |    1      |\n",
    "|2    |( 1,   0) |    0      |\n",
    "|3    |( 0,   1) |    0      |\n",
    "|4    |( 0,   0) |    0      |"
   ]
  },
  {
   "cell_type": "markdown",
   "metadata": {},
   "source": [
    "## Iteración 1: Paso 0. Inicialización de pesos\n",
    "\n",
    "La inicialización de pesos del Adaline puede ser aleatoria, con número pequeños entre [0, 1] o asignado a todos los pesos el valor inicial de cero."
   ]
  },
  {
   "cell_type": "code",
   "execution_count": 1,
   "metadata": {},
   "outputs": [],
   "source": [
    "w = [-0.6, 0.3, 0.2]"
   ]
  },
  {
   "cell_type": "markdown",
   "metadata": {},
   "source": [
    "## Iteración 1\n",
    "\n",
    "Se utilizan toda la muestra de entrenamiento"
   ]
  },
  {
   "cell_type": "code",
   "execution_count": 2,
   "metadata": {},
   "outputs": [],
   "source": [
    "X = [[0, 0], [1, 0], [0, 1], [1, 1]]\n",
    "t = [0, 0, 0, 1]"
   ]
  },
  {
   "cell_type": "markdown",
   "metadata": {},
   "source": [
    "Para calcular salida actual de Adaline utilizamos:\n",
    "$\\hat y = \\sum w_ix_i + w_bb$"
   ]
  },
  {
   "cell_type": "code",
   "execution_count": 3,
   "metadata": {},
   "outputs": [
    {
     "name": "stdout",
     "output_type": "stream",
     "text": [
      "[-0.6 -0.3 -0.4 -0.1]\n"
     ]
    }
   ],
   "source": [
    "import numpy as np\n",
    "\n",
    "# entrada a la red\n",
    "y_input = np.dot(X, w[1:]) + w[0]\n",
    "print (y_input)\n"
   ]
  },
  {
   "cell_type": "code",
   "execution_count": 4,
   "metadata": {},
   "outputs": [],
   "source": [
    "# activación identidad"
   ]
  },
  {
   "cell_type": "code",
   "execution_count": 5,
   "metadata": {},
   "outputs": [
    {
     "name": "stdout",
     "output_type": "stream",
     "text": [
      "[0.6 0.3 0.4 1.1]\n"
     ]
    }
   ],
   "source": [
    "# errores\n",
    "errors = t - y_input\n",
    "print (errors)"
   ]
  },
  {
   "cell_type": "code",
   "execution_count": 6,
   "metadata": {},
   "outputs": [
    {
     "name": "stdout",
     "output_type": "stream",
     "text": [
      "[0.6, 1.0, 0.95]\n"
     ]
    }
   ],
   "source": [
    "# ajuste de pesos\n",
    "eta = 0.5\n",
    "w[1:] += eta * np.dot(np.transpose(X), errors)\n",
    "w[0] += eta * np.sum(errors)\n",
    "print(w)"
   ]
  },
  {
   "cell_type": "markdown",
   "metadata": {},
   "source": [
    "# Iteración 2"
   ]
  },
  {
   "cell_type": "code",
   "execution_count": 8,
   "metadata": {},
   "outputs": [
    {
     "name": "stdout",
     "output_type": "stream",
     "text": [
      "[0.6  1.6  1.55 2.55]\n",
      "[-0.6  -1.6  -1.55 -1.55]\n",
      "[-2.05, -0.575, -0.5999999999999999]\n"
     ]
    }
   ],
   "source": [
    "# entrada a la red\n",
    "y_input = np.dot(X, w[1:]) + w[0]\n",
    "print('Entradas a la neurona:')\n",
    "print (y_input)\n",
    "\n",
    "# activación identidad\n",
    "\n",
    "# errores\n",
    "errors = t - y_input\n",
    "print('Errores de cada ejemplo de entrenamiento.')\n",
    "print (errors)\n",
    "\n",
    "# ajuste de pesos\n",
    "eta = 0.5\n",
    "w[1:] += eta * np.dot(np.transpose(X), errors)\n",
    "w[0] += eta * np.sum(errors)\n",
    "print('Nuevos pesos')\n",
    "print(w)"
   ]
  },
  {
   "cell_type": "markdown",
   "metadata": {},
   "source": [
    "# Iteración 3"
   ]
  },
  {
   "cell_type": "code",
   "execution_count": 10,
   "metadata": {},
   "outputs": [
    {
     "name": "stdout",
     "output_type": "stream",
     "text": [
      "Entradas a la neurona:\n",
      "[-2.05  -2.625 -2.65  -3.225]\n",
      "Errores de cada ejemplo de entrenamiento.\n",
      "[2.05  2.625 2.65  4.225]\n",
      "Nuevos pesos\n",
      "[3.7249999999999996, 2.8499999999999996, 2.8374999999999995]\n"
     ]
    }
   ],
   "source": [
    "# entrada a la red\n",
    "y_input = np.dot(X, w[1:]) + w[0]\n",
    "print('Entradas a la neurona:')\n",
    "print (y_input)\n",
    "\n",
    "# activación identidad\n",
    "\n",
    "# errores\n",
    "errors = t - y_input\n",
    "print('Errores de cada ejemplo de entrenamiento.')\n",
    "print (errors)\n",
    "\n",
    "# ajuste de pesos\n",
    "eta = 0.5\n",
    "w[1:] += eta * np.dot(np.transpose(X), errors)\n",
    "w[0] += eta * np.sum(errors)\n",
    "print('Nuevos pesos')\n",
    "print(w)"
   ]
  },
  {
   "cell_type": "code",
   "execution_count": null,
   "metadata": {},
   "outputs": [],
   "source": []
  }
 ],
 "metadata": {
  "kernelspec": {
   "display_name": "Python 3.9.0 64-bit",
   "language": "python",
   "name": "python3"
  },
  "language_info": {
   "codemirror_mode": {
    "name": "ipython",
    "version": 3
   },
   "file_extension": ".py",
   "mimetype": "text/x-python",
   "name": "python",
   "nbconvert_exporter": "python",
   "pygments_lexer": "ipython3",
   "version": "3.9.0"
  },
  "vscode": {
   "interpreter": {
    "hash": "aee8b7b246df8f9039afb4144a1f6fd8d2ca17a180786b69acc140d282b71a49"
   }
  }
 },
 "nbformat": 4,
 "nbformat_minor": 4
}
