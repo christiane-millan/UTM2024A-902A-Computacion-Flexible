{
 "cells": [
  {
   "cell_type": "markdown",
   "metadata": {},
   "source": [
    "# Descargar data set"
   ]
  },
  {
   "cell_type": "markdown",
   "metadata": {},
   "source": [
    "https://www.kaggle.com/datasets/rithikkotha/heart-failure-clinical-records-dataset"
   ]
  },
  {
   "cell_type": "markdown",
   "metadata": {},
   "source": [
    "# Descripcion"
   ]
  },
  {
   "cell_type": "markdown",
   "metadata": {},
   "source": [
    "https://www.kaggle.com/datasets/fedesoriano/heart-failure-prediction"
   ]
  },
  {
   "cell_type": "markdown",
   "metadata": {},
   "source": [
    "### Attribute Information\n",
    "Age: age of the patient [years]\n",
    "\n",
    "Anemia: Condition [1: Yes, 0: NO]\n",
    "\n",
    "creatinine phosphokinase:  enzyme expressed by various tissues and cell types [numeric value]\n",
    "\n",
    "Diabetes: Condition [1: Yes, 0: NO]\n",
    "\n",
    "Ejection fraction: Most important measure of cardiac performance [numeric value]\n",
    "\n",
    "High blood pressure: Condition [1: Yes, 0: NO]\n",
    "\n",
    "Platelets: colorless blood cells involved in blood coagulation [numeric value]\n",
    "\n",
    "Serum creatinine: Creatinine is a waste product in your blood that comes from your muscles [numeric value]\n",
    "\n",
    "Serum sodium: Blood sodium concentration [numeric value]\n",
    "\n",
    "Sex: sex of the patient [1: Male, 0: Female]\n",
    "\n",
    "Smoking: smokers [1: Yes, 0: NO]\n",
    "\n",
    "Time: [numeric value]\n",
    "\n",
    "DEATH_EVENT: output class [1: heart disease, 0: Normal]"
   ]
  }
 ],
 "metadata": {
  "kernelspec": {
   "display_name": "Python 3.9.0 64-bit",
   "language": "python",
   "name": "python3"
  },
  "language_info": {
   "name": "python",
   "version": "3.9.0"
  },
  "orig_nbformat": 4,
  "vscode": {
   "interpreter": {
    "hash": "aee8b7b246df8f9039afb4144a1f6fd8d2ca17a180786b69acc140d282b71a49"
   }
  }
 },
 "nbformat": 4,
 "nbformat_minor": 2
}
