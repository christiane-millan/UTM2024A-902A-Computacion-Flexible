{
  "nbformat": 4,
  "nbformat_minor": 0,
  "metadata": {
    "colab": {
      "provenance": []
    },
    "kernelspec": {
      "name": "python3",
      "display_name": "Python 3"
    },
    "language_info": {
      "name": "python"
    }
  },
  "cells": [
    {
      "cell_type": "code",
      "source": [
        "#"
      ],
      "metadata": {
        "id": "n97HsCjvlbK5"
      },
      "execution_count": null,
      "outputs": []
    },
    {
      "cell_type": "markdown",
      "source": [
        "#**Conjunto de datos de estrellas para predecir clases de estrellas**\n",
        "Un conjunto de datos de estrellas de 7 clases espectrales,\n",
        "algunos de ellos son:\n",
        "\n",
        "- Temperatura absoluta(in K)\n",
        "- Luminosidad relativa(L/Lo)\n",
        "- Radio relativo(R/Ro)\n",
        "- Magnitud absoluta(Mv)\n",
        "- Color de la estrella(white,Red,Blue,Yellow,yellow-orange etc)\n",
        "- Clase espectral(O,B,A,F,G,K,,M)\n",
        "- Tipo de estrella (0,1,2,3,4,5)\n",
        "\n",
        "Acerca de este archivo:\n",
        "Este archivo CSV contiene un conjunto de datos de 240 estrellas de 7 clases espectrales, donde el tipo de estrella indica:\n",
        "\n",
        "- Enana marrón = 0\n",
        "\n",
        "- Enana roja  = 1\n",
        "\n",
        "- Enana blanca = 2\n",
        "\n",
        "- Secuencia principal = 3\n",
        "\n",
        "- Supergigante = 4\n",
        "\n",
        "- Hipergigante  = 5\n",
        "\n",
        "La Luminosidad y el radio de cada estrella se calculan con los valores del Sol.\n",
        "Lo = 3,828 x 10^26 vatios\n",
        "Ro = 6,9551 x 10^8 m\n",
        "\n",
        "\n",
        "##*Objetivo*:\n",
        "El propósito de este conjunto de datos es predecir a que clase espectral pertenece una estrella tomando en cuenta sus características.\n",
        "\n",
        "###*Nota*: \n",
        "Para poder graficar los datos con la funcion plot_decision_regions, es necesario escalar los datos.\n"
      ],
      "metadata": {
        "id": "ofUHVYGhphwU"
      }
    },
    {
      "cell_type": "code",
      "execution_count": null,
      "metadata": {
        "id": "l4xJMm5clYW9"
      },
      "outputs": [],
      "source": []
    }
  ]
}